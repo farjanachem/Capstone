{
 "cells": [
  {
   "cell_type": "code",
   "id": "initial_id",
   "metadata": {
    "collapsed": true,
    "ExecuteTime": {
     "end_time": "2025-07-14T16:30:50.650811Z",
     "start_time": "2025-07-14T16:30:49.895014Z"
    }
   },
   "source": [
    "import pandas as pd\n",
    "import dash\n",
    "from dash import html\n",
    "from dash import dcc\n",
    "from dash.dependencies import Input, Output\n",
    "import plotly.express as px\n",
    "# Read the airline data into pandas dataframe\n",
    "spacex_df = pd.read_csv(\"spacex_launch_dash.csv\")\n",
    "max_payload = spacex_df['Payload Mass (kg)'].max()\n",
    "min_payload = spacex_df['Payload Mass (kg)'].min()\n",
    "\n",
    "\n",
    "app = dash.Dash(__name__)\n",
    "\n",
    "\n",
    "app.layout = html.Div(children=[html.H1('SpaceX Launch Records Dashboard',\n",
    "                                        style={'textAlign': 'center', 'color': '#503D36',\n",
    "                                               'font-size': 40}),\n",
    "\n",
    "                                html.Div(dcc.Dropdown(id='site-dropdown',options=[\n",
    "                    {'label': 'All Sites', 'value': 'ALL'},\n",
    "                    {'label': 'site1', 'value': 'site1'},\n",
    "                ],\n",
    "                value='ALL',\n",
    "                placeholder=\"place holder here\",\n",
    "                searchable=True\n",
    "                ),),\n",
    "                                html.Div(dcc.Graph(id='success-pie-chart')),\n",
    "       #                          html.Br(),\n",
    "       # dcc.RangeSlider(id='id',min=0, max=10000, step=1000,\n",
    "       #          marks={0: '0',\n",
    "       #                 100: '100'},\n",
    "       #          value=[min_value, max_value])\n",
    "       #                          # TASK 4: Add a scatter chart to show the correlation between payload and launch success\n",
    "       #                          html.Div(dcc.Graph(id='success-payload-scatter-chart')),\n",
    "                                ])\n",
    "if __name__ == '__main__':\n",
    "    app.run()\n"
   ],
   "outputs": [
    {
     "data": {
      "text/plain": [
       "<IPython.lib.display.IFrame at 0x114e657f0>"
      ],
      "text/html": [
       "\n",
       "        <iframe\n",
       "            width=\"100%\"\n",
       "            height=\"650\"\n",
       "            src=\"http://127.0.0.1:8050/\"\n",
       "            frameborder=\"0\"\n",
       "            allowfullscreen\n",
       "            \n",
       "        ></iframe>\n",
       "        "
      ]
     },
     "metadata": {},
     "output_type": "display_data"
    }
   ],
   "execution_count": 1
  },
  {
   "metadata": {
    "ExecuteTime": {
     "end_time": "2025-07-14T16:30:50.668101Z",
     "start_time": "2025-07-14T16:30:50.666538Z"
    }
   },
   "cell_type": "code",
   "source": "",
   "id": "14128a790cf25072",
   "outputs": [],
   "execution_count": null
  }
 ],
 "metadata": {
  "kernelspec": {
   "display_name": "Python 3",
   "language": "python",
   "name": "python3"
  },
  "language_info": {
   "codemirror_mode": {
    "name": "ipython",
    "version": 2
   },
   "file_extension": ".py",
   "mimetype": "text/x-python",
   "name": "python",
   "nbconvert_exporter": "python",
   "pygments_lexer": "ipython2",
   "version": "2.7.6"
  }
 },
 "nbformat": 4,
 "nbformat_minor": 5
}
