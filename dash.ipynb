{
 "cells": [
  {
   "metadata": {
    "ExecuteTime": {
     "end_time": "2025-07-14T16:31:02.724541Z",
     "start_time": "2025-07-14T16:31:02.208058Z"
    }
   },
   "cell_type": "code",
   "source": [
    "import pandas as pd\n",
    "import dash\n",
    "from dash import html\n",
    "from dash import dcc\n",
    "from dash.dependencies import Input, Output\n",
    "import plotly.express as px\n",
    "# Read the airline data into pandas dataframe\n",
    "spacex_df = pd.read_csv(\"spacex_launch_dash.csv\")\n",
    "launch_sites = spacex_df['Launch Site'].unique().tolist()\n",
    "max_payload = spacex_df['Payload Mass (kg)'].max()\n",
    "min_payload = spacex_df['Payload Mass (kg)'].min()\n",
    "print(launch_sites)\n",
    "# Create a dash application\n",
    "app = dash.Dash(__name__)"
   ],
   "id": "7cb5ed19f71fe7af",
   "outputs": [
    {
     "name": "stdout",
     "output_type": "stream",
     "text": [
      "['CCAFS LC-40', 'VAFB SLC-4E', 'KSC LC-39A', 'CCAFS SLC-40']\n"
     ]
    }
   ],
   "execution_count": 1
  },
  {
   "metadata": {
    "ExecuteTime": {
     "end_time": "2025-07-14T16:31:03.043381Z",
     "start_time": "2025-07-14T16:31:02.793967Z"
    }
   },
   "cell_type": "code",
   "source": [
    "dropdown_options = (\n",
    "    [{'label': 'All Sites', 'value': 'ALL'}] +\n",
    "    [{'label': site, 'value': site} for site in launch_sites]\n",
    ")\n",
    "\n",
    "# Create an app layout\n",
    "app.layout = html.Div(children=[\n",
    "    html.H1('SpaceX Launch Records Dashboard',style={'textAlign': 'center', 'color': '#503D36','font-size': 40}),\n",
    "\n",
    "    html.Div(dcc.Dropdown(id='site-dropdown',\n",
    "                options=dropdown_options,\n",
    "                value='ALL',\n",
    "                placeholder=\"Select a launch site\",\n",
    "                searchable=True\n",
    "                )),\n",
    "\n",
    "    html.Div(dcc.Graph(id='success-pie-chart')),\n",
    "\n",
    "     html.Br(),\n",
    "    dcc.RangeSlider(id='payload-slider',min=0, max=10000, step=1000,\n",
    "                    marks={0: '0',\n",
    "                           100: '100'},\n",
    "                    value=[0, 10000]),\n",
    "    html.Div(dcc.Graph(id='success-payload-scatter-chart')),\n",
    "])\n",
    "\n",
    "\n",
    "@app.callback(Output(component_id='success-pie-chart', component_property='figure'),\n",
    "              Input(component_id='site-dropdown', component_property='value'))\n",
    "def get_pie_chart(entered_site):\n",
    "    if entered_site == 'ALL':\n",
    "        fig = px.pie(spacex_df,\n",
    "                     values='class',\n",
    "                     names='Launch Site',\n",
    "                     title='Total Success Launches by site')\n",
    "    else:\n",
    "        filtered_df = spacex_df[spacex_df['Launch Site'] == entered_site]\n",
    "        pie_data = filtered_df['class'].value_counts().reset_index()\n",
    "        pie_data.columns = ['class', 'count']\n",
    "        #pie_data['outcome'] = pie_data['class'].map({1: 'Success', 0: 'Failure'})\n",
    "        fig = px.pie(\n",
    "            pie_data,\n",
    "            names='class',\n",
    "            values='count',\n",
    "            title=f'Total Success vs Failure for {entered_site}'\n",
    "        )\n",
    "    return fig\n",
    "\n",
    "\n",
    "\n",
    "@app.callback(\n",
    "    Output(component_id='success-payload-scatter-chart', component_property='figure'),\n",
    "    [\n",
    "        Input(component_id='site-dropdown', component_property='value'),\n",
    "        Input(component_id='payload-slider', component_property='value')\n",
    "    ]\n",
    ")\n",
    "def update_scatter_chart(selected_site, payload_range):\n",
    "    low, high = payload_range\n",
    "\n",
    "    # Filter data by payload range\n",
    "    filtered_df = spacex_df[\n",
    "        (spacex_df['Payload Mass (kg)'] >= low) &\n",
    "        (spacex_df['Payload Mass (kg)'] <= high)\n",
    "    ]\n",
    "\n",
    "    if selected_site == 'ALL':\n",
    "        # Show all sites with filtered payload range\n",
    "        fig = px.scatter(\n",
    "            filtered_df,\n",
    "            x='Payload Mass (kg)',\n",
    "            y='class',\n",
    "            color='Booster Version Category',\n",
    "            title='Correlation Between Payload and Success for All Sites'\n",
    "        )\n",
    "    else:\n",
    "        # Filter by selected site\n",
    "        site_df = filtered_df[filtered_df['Launch Site'] == selected_site]\n",
    "        fig = px.scatter(\n",
    "            site_df,\n",
    "            x='Payload Mass (kg)',\n",
    "            y='class',\n",
    "            color='Booster Version Category',\n",
    "            title=f'Correlation Between Payload and Success for {selected_site}'\n",
    "        )\n",
    "\n",
    "    return fig\n",
    "if __name__ == '__main__':\n",
    "    app.run()\n",
    "\n"
   ],
   "id": "a3e51f8d35fe076d",
   "outputs": [
    {
     "name": "stderr",
     "output_type": "stream",
     "text": [
      "Address already in use\n",
      "Port 8050 is in use by another program. Either identify and stop that program, or start the server with a different port.\n"
     ]
    },
    {
     "ename": "SystemExit",
     "evalue": "1",
     "output_type": "error",
     "traceback": [
      "An exception has occurred, use %tb to see the full traceback.\n",
      "\u001B[31mSystemExit\u001B[39m\u001B[31m:\u001B[39m 1\n"
     ]
    },
    {
     "name": "stderr",
     "output_type": "stream",
     "text": [
      "/Users/farjn/PycharmProjects/ibm_data_science/.venv/lib/python3.12/site-packages/IPython/core/interactiveshell.py:3678: UserWarning:\n",
      "\n",
      "To exit: use 'exit', 'quit', or Ctrl-D.\n",
      "\n"
     ]
    }
   ],
   "execution_count": 2
  }
 ],
 "metadata": {
  "kernelspec": {
   "display_name": "Python 3",
   "language": "python",
   "name": "python3"
  },
  "language_info": {
   "codemirror_mode": {
    "name": "ipython",
    "version": 2
   },
   "file_extension": ".py",
   "mimetype": "text/x-python",
   "name": "python",
   "nbconvert_exporter": "python",
   "pygments_lexer": "ipython2",
   "version": "2.7.6"
  }
 },
 "nbformat": 4,
 "nbformat_minor": 5
}
